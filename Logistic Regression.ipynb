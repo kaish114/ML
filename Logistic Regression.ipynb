{
 "cells": [
  {
   "cell_type": "markdown",
   "metadata": {},
   "source": [
    "# LOGISTIC REGRESSION\n",
    "\n"
   ]
  },
  {
   "cell_type": "code",
   "execution_count": 5,
   "metadata": {},
   "outputs": [],
   "source": [
    "import numpy as np\n",
    "import matplotlib.pyplot as plt\n",
    "import pandas as pd\n",
    "%matplotlib inline"
   ]
  },
  {
   "cell_type": "markdown",
   "metadata": {},
   "source": [
    "### My own regression model"
   ]
  },
  {
   "cell_type": "code",
   "execution_count": 100,
   "metadata": {},
   "outputs": [],
   "source": [
    "def initialise( features ) :\n",
    "    w = np.zeros(( features , 1 ))\n",
    "    b = 0\n",
    "    return w , b"
   ]
  },
  {
   "cell_type": "code",
   "execution_count": 34,
   "metadata": {},
   "outputs": [],
   "source": [
    "def sigmoid( z ) :\n",
    "    return 1/( 1 + np.exp(-z) )"
   ]
  },
  {
   "cell_type": "code",
   "execution_count": 145,
   "metadata": {},
   "outputs": [],
   "source": [
    "def fitLinearRegression( x , w , b ) :\n",
    "    \n",
    "    z = np.dot( w.T , x ) + b\n",
    "    \n",
    "    return z"
   ]
  },
  {
   "cell_type": "code",
   "execution_count": 141,
   "metadata": {},
   "outputs": [],
   "source": [
    "def findGrad( a , x , y ) :\n",
    "    m = x.shape[1]\n",
    "    dz = a - y\n",
    "    \n",
    "    dw = (1/m)*np.dot( x , dz.T )\n",
    "    db = (1/m)*np.sum( dz )\n",
    "    \n",
    "    return dw , db"
   ]
  },
  {
   "cell_type": "code",
   "execution_count": 237,
   "metadata": {},
   "outputs": [],
   "source": [
    "def findCost( y , a ) :\n",
    "    \n",
    "    m = a.shape[1]\n",
    "    cost = (-1/m)*np.sum( y*np.log(a) + (1-y)*np.log(1-a) )\n",
    "    \n",
    "    return cost"
   ]
  },
  {
   "cell_type": "code",
   "execution_count": 175,
   "metadata": {},
   "outputs": [],
   "source": [
    "def predict( x , w , b ) :\n",
    "    \n",
    "    a = fitLinearRegression( x , w , b  )\n",
    "    m = a.shape[1]\n",
    "    y_predict = np.zeros( (1,m) )\n",
    "    \n",
    "    for i in range( m ) :\n",
    "        if a[0][i] >= 0 :\n",
    "            y_predict[0][i] = 0\n",
    "        else :\n",
    "            y_predict[0][i] = 1\n",
    "    \n",
    "    return y_predict"
   ]
  },
  {
   "cell_type": "code",
   "execution_count": 297,
   "metadata": {},
   "outputs": [],
   "source": [
    "def printAccuracy( y_predict , y_real ) :\n",
    "    acc = 100 - np.mean(np.abs(y_predict - y_real)) * 100\n",
    "    print( \"The accuracy is : \",acc,\"%\" )"
   ]
  },
  {
   "cell_type": "code",
   "execution_count": 315,
   "metadata": {},
   "outputs": [],
   "source": [
    "def train( x , y , x_test , y_test , iterations = 1000 , learning_rate = 0.001 , printCost = True ) :\n",
    "\n",
    "    w , b = initialise( x.shape[0] )  \n",
    "    \n",
    "    for i in range(iterations) :\n",
    "        z = fitLinearRegression( x , w , b  )\n",
    "        a = sigmoid( z )\n",
    "        dw , db = findGrad( a , x , y )\n",
    "        cost = findCost( y , a )\n",
    "        if i%100 == 0 and printCost :\n",
    "            print( \"For i = \",i,\" : Cost = \",cost )\n",
    "        w = w - learning_rate * dw\n",
    "        b = b - learning_rate * db\n",
    "        \n",
    "    y_train_predict = predict( x , w , b )\n",
    "    print(\"For training set : \")\n",
    "    printAccuracy( y_train_predict , y )\n",
    "    y_test_predict = predict( x_test , w , b )\n",
    "    print(\"For test set : \")\n",
    "    printAccuracy( y_test_predict , y_test )"
   ]
  },
  {
   "cell_type": "markdown",
   "metadata": {},
   "source": [
    "### Main Function :"
   ]
  },
  {
   "cell_type": "code",
   "execution_count": 316,
   "metadata": {},
   "outputs": [],
   "source": [
    "dataset = pd.read_csv('social.csv')"
   ]
  },
  {
   "cell_type": "code",
   "execution_count": 317,
   "metadata": {},
   "outputs": [],
   "source": [
    "y = dataset['Purchased']"
   ]
  },
  {
   "cell_type": "code",
   "execution_count": 318,
   "metadata": {},
   "outputs": [
    {
     "data": {
      "text/html": [
       "<div>\n",
       "<style scoped>\n",
       "    .dataframe tbody tr th:only-of-type {\n",
       "        vertical-align: middle;\n",
       "    }\n",
       "\n",
       "    .dataframe tbody tr th {\n",
       "        vertical-align: top;\n",
       "    }\n",
       "\n",
       "    .dataframe thead th {\n",
       "        text-align: right;\n",
       "    }\n",
       "</style>\n",
       "<table border=\"1\" class=\"dataframe\">\n",
       "  <thead>\n",
       "    <tr style=\"text-align: right;\">\n",
       "      <th></th>\n",
       "      <th>Age</th>\n",
       "      <th>EstimatedSalary</th>\n",
       "    </tr>\n",
       "  </thead>\n",
       "  <tbody>\n",
       "    <tr>\n",
       "      <th>0</th>\n",
       "      <td>19</td>\n",
       "      <td>19000</td>\n",
       "    </tr>\n",
       "    <tr>\n",
       "      <th>1</th>\n",
       "      <td>35</td>\n",
       "      <td>20000</td>\n",
       "    </tr>\n",
       "    <tr>\n",
       "      <th>2</th>\n",
       "      <td>26</td>\n",
       "      <td>43000</td>\n",
       "    </tr>\n",
       "    <tr>\n",
       "      <th>3</th>\n",
       "      <td>27</td>\n",
       "      <td>57000</td>\n",
       "    </tr>\n",
       "    <tr>\n",
       "      <th>4</th>\n",
       "      <td>19</td>\n",
       "      <td>76000</td>\n",
       "    </tr>\n",
       "  </tbody>\n",
       "</table>\n",
       "</div>"
      ],
      "text/plain": [
       "   Age  EstimatedSalary\n",
       "0   19            19000\n",
       "1   35            20000\n",
       "2   26            43000\n",
       "3   27            57000\n",
       "4   19            76000"
      ]
     },
     "execution_count": 318,
     "metadata": {},
     "output_type": "execute_result"
    }
   ],
   "source": [
    "x = dataset.drop( ['User ID','Purchased','Gender'] , axis = 1 )\n",
    "x.head()"
   ]
  },
  {
   "cell_type": "code",
   "execution_count": 319,
   "metadata": {},
   "outputs": [
    {
     "name": "stdout",
     "output_type": "stream",
     "text": [
      "(2, 400) (1, 400)\n"
     ]
    }
   ],
   "source": [
    "x = np.array(x)\n",
    "y = (np.array(y).T).reshape(400,1)\n",
    "x = x.T\n",
    "y = y.T \n",
    "print( x.shape , y.shape)"
   ]
  },
  {
   "cell_type": "code",
   "execution_count": 320,
   "metadata": {},
   "outputs": [
    {
     "name": "stdout",
     "output_type": "stream",
     "text": [
      "(2, 300) (2, 100) (1, 300) (1, 100)\n"
     ]
    }
   ],
   "source": [
    "x_train = x[ : , : 300 ]\n",
    "x_test = x[ : , 300 : ]\n",
    "y_train = y[ : , : 300 ]\n",
    "y_test = y[ : , 300 : ]\n",
    "print( x_train.shape  , x_test.shape , y_train.shape , y_test.shape)"
   ]
  },
  {
   "cell_type": "code",
   "execution_count": 322,
   "metadata": {},
   "outputs": [
    {
     "name": "stdout",
     "output_type": "stream",
     "text": [
      "For i =  0  : Cost =  0.8390769841801067\n",
      "For i =  100  : Cost =  0.6931471805599453\n",
      "For i =  200  : Cost =  0.6931471805599453\n",
      "For i =  300  : Cost =  0.6931471805599453\n",
      "For i =  400  : Cost =  0.6931471805599453\n",
      "For i =  500  : Cost =  0.6931471805599453\n",
      "For i =  600  : Cost =  0.6931471805599453\n",
      "For i =  700  : Cost =  0.6931471805599453\n",
      "For i =  800  : Cost =  0.6931471805599453\n",
      "For i =  900  : Cost =  0.6931471805599453\n",
      "For training set : \n",
      "The accuracy is :  73.0 %\n",
      "For test set : \n",
      "The accuracy is :  38.0 %\n"
     ]
    }
   ],
   "source": [
    "train( x_train , y_train , x_test , y_test)"
   ]
  },
  {
   "cell_type": "code",
   "execution_count": null,
   "metadata": {},
   "outputs": [],
   "source": []
  }
 ],
 "metadata": {
  "kernelspec": {
   "display_name": "Python 3",
   "language": "python",
   "name": "python3"
  },
  "language_info": {
   "codemirror_mode": {
    "name": "ipython",
    "version": 3
   },
   "file_extension": ".py",
   "mimetype": "text/x-python",
   "name": "python",
   "nbconvert_exporter": "python",
   "pygments_lexer": "ipython3",
   "version": "3.7.1"
  }
 },
 "nbformat": 4,
 "nbformat_minor": 2
}
