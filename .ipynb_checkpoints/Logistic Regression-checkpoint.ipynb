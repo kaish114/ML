{
 "cells": [
  {
   "cell_type": "markdown",
   "metadata": {},
   "source": [
    "# LOGISTIC REGRESSION\n",
    "\n"
   ]
  },
  {
   "cell_type": "code",
   "execution_count": 2,
   "metadata": {},
   "outputs": [],
   "source": [
    "import numpy as np\n",
    "import matplotlib.pyplot as plt\n",
    "import pandas as pd\n",
    "%matplotlib inline\n"
   ]
  },
  {
   "cell_type": "markdown",
   "metadata": {},
   "source": [
    "### My own regression model"
   ]
  },
  {
   "cell_type": "code",
   "execution_count": 252,
   "metadata": {},
   "outputs": [],
   "source": [
    "class LogisticRegression :\n",
    "    \n",
    "    def show( self ) :\n",
    "        print(\"W --> \",str(w))\n",
    "        print(\"b --> \",str(b))\n",
    "        \n",
    "    def initialize( self ) :\n",
    "        self.w = 0.01 * np.random.randn( self.features , 1 )\n",
    "        self.b = 0\n",
    "        \n",
    "    def sigmoid( self , z ) :\n",
    "        return 1/( 1 + np.exp(-z) )\n",
    "    \n",
    "    def backprop( self , x , a , y ) :\n",
    "        dz = a - y\n",
    "        dw = (1/self.m) * np.dot( x , (dz).T )\n",
    "        db = (1/self.m) * np.sum( dz )\n",
    "        cost= ( -1/self.m ) * np.sum( y*np.log(a) + (1-y)*np.log(1-a) )\n",
    "        cost = np.squeeze( cost )\n",
    "        assert ( cost.shape == () )\n",
    "        return dw , db , cost\n",
    "    \n",
    "    def propagate( self , x , y , iterations , learning_rate , printCost ) :\n",
    "        self.costs = []\n",
    "        for i in range( iterations ) :\n",
    "            \n",
    "            #Forward Propagation\n",
    "            z = np.dot( (self.w).T , x ) + self.b\n",
    "            a = self.sigmoid( z )\n",
    "            #Backward Propagation\n",
    "            \n",
    "            dw , db , cost = self.backprop( x , a , y )\n",
    "            self.w -= learning_rate * dw\n",
    "            self.b -= learning_rate * db\n",
    "            (self.costs).append(cost)\n",
    "            if i%1000 == 0 and printCost :\n",
    "                print(\"Cost after \",i,\" iterations : \",cost)\n",
    "        \n",
    "    def printAccuracy( y1 , y2 ) :\n",
    "        acc = 100 - np.mean( 100 * np.abs( y1 - y2 ) )\n",
    "        print( acc )\n",
    "        \n",
    "    def plot(self) :\n",
    "        plt.plot(self.costs)\n",
    "        plt.ylabel('Cost')\n",
    "        plt.xlabel('Iterations')\n",
    "        plt.title(\"Learning rate =\" + str(self.rate))\n",
    "        plt.show()\n",
    "        \n",
    "    def predict( self , x , y ) :\n",
    "        z = np.dot( (self.w).T , x ) + self.b\n",
    "        y_prediction = np.zeros( z.shape )\n",
    "        \n",
    "        for i in range( z.shape[1] ) :\n",
    "            if z[0][i] >= 0 :\n",
    "                y_prediction[0][i] = 1\n",
    "            else :\n",
    "                y_prediction[0][i] = 0\n",
    "        printAccuracy( y_prediction , y )\n",
    "        \n",
    "        \n",
    "    def fit( self , x , y , iterations = 1000 , learning_rate = 0.001 , printCost = True , plot = True) :\n",
    "        self.rate = learning_rate\n",
    "        self.features = x.shape[0]\n",
    "        self.m = x.shape[1]\n",
    "        self.initialize()\n",
    "        self.propagate( x , y , iterations , learning_rate , printCost )\n",
    "        if plot :\n",
    "            self.plot()"
   ]
  },
  {
   "cell_type": "markdown",
   "metadata": {},
   "source": [
    "### Main Function :"
   ]
  },
  {
   "cell_type": "markdown",
   "metadata": {},
   "source": [
    "**Data Preprocessing**"
   ]
  },
  {
   "cell_type": "code",
   "execution_count": 110,
   "metadata": {},
   "outputs": [],
   "source": [
    "dataset = pd.read_csv('social.csv')"
   ]
  },
  {
   "cell_type": "code",
   "execution_count": 1,
   "metadata": {},
   "outputs": [],
   "source": [
    "# dataset.describe()"
   ]
  },
  {
   "cell_type": "code",
   "execution_count": 182,
   "metadata": {},
   "outputs": [],
   "source": [
    "y = dataset['Purchased']"
   ]
  },
  {
   "cell_type": "code",
   "execution_count": 183,
   "metadata": {},
   "outputs": [],
   "source": [
    "x = dataset.drop( ['User ID','Purchased','Gender'] , axis = 1 )"
   ]
  },
  {
   "cell_type": "code",
   "execution_count": 184,
   "metadata": {},
   "outputs": [
    {
     "name": "stdout",
     "output_type": "stream",
     "text": [
      "(2, 400) (1, 400)\n"
     ]
    }
   ],
   "source": [
    "x = np.array(x)\n",
    "y = np.array(y).reshape(400,1)\n",
    "x = x.T\n",
    "y = y.T \n",
    "print( x.shape , y.shape)"
   ]
  },
  {
   "cell_type": "code",
   "execution_count": null,
   "metadata": {},
   "outputs": [],
   "source": [
    "Mean Normali"
   ]
  },
  {
   "cell_type": "code",
   "execution_count": 222,
   "metadata": {},
   "outputs": [],
   "source": [
    "mean = np.mean( x , keepdims = True , axis = 1 )\n",
    "x = x - mean\n",
    "variance = np.var( x , keepdims = True , axis = 1 )\n",
    "x = x / variance"
   ]
  },
  {
   "cell_type": "code",
   "execution_count": 223,
   "metadata": {},
   "outputs": [
    {
     "name": "stdout",
     "output_type": "stream",
     "text": [
      "(2, 300) (2, 100) (1, 300) (1, 100)\n"
     ]
    }
   ],
   "source": [
    "x_train = x[ : , : 300 ]\n",
    "x_test = x[ : , 300 : ]\n",
    "y_train = y[ : , : 300 ]\n",
    "y_test = y[ : , 300 : ]\n",
    "print( x_train.shape  , x_test.shape , y_train.shape , y_test.shape)"
   ]
  },
  {
   "cell_type": "code",
   "execution_count": 255,
   "metadata": {},
   "outputs": [
    {
     "name": "stdout",
     "output_type": "stream",
     "text": [
      "Cost after  0  iterations :  0.6937022888980409\n",
      "Cost after  1000  iterations :  0.5368749545965894\n",
      "Cost after  2000  iterations :  0.50405927926453\n",
      "Cost after  3000  iterations :  0.4806767474831046\n",
      "Cost after  4000  iterations :  0.4637910052018947\n",
      "Cost after  5000  iterations :  0.45139376118733787\n",
      "Cost after  6000  iterations :  0.4421369810042696\n",
      "Cost after  7000  iterations :  0.4351142909852367\n",
      "Cost after  8000  iterations :  0.4297090701445641\n",
      "Cost after  9000  iterations :  0.42549499934322005\n",
      "Cost after  10000  iterations :  0.42217212425102957\n",
      "Cost after  11000  iterations :  0.4195257029396441\n",
      "Cost after  12000  iterations :  0.4173994418068493\n",
      "Cost after  13000  iterations :  0.4156778320454342\n",
      "Cost after  14000  iterations :  0.4142742999664637\n",
      "Cost after  15000  iterations :  0.4131231237634932\n",
      "Cost after  16000  iterations :  0.4121738288308668\n",
      "Cost after  17000  iterations :  0.4113872406035041\n",
      "Cost after  18000  iterations :  0.41073266360070426\n",
      "Cost after  19000  iterations :  0.4101858374726171\n"
     ]
    },
    {
     "data": {
      "image/png": "[encoded data removed]",
      "text/plain": [
       "<Figure size 432x288 with 1 Axes>"
      ]
     },
     "metadata": {
      "needs_background": "light"
     },
     "output_type": "display_data"
    },
    {
     "name": "stdout",
     "output_type": "stream",
     "text": [
      "For training set : \n",
      "The accuracy is :  84.0 %\n",
      "For test set : \n",
      "The accuracy is :  83.0 %\n"
     ]
    }
   ],
   "source": [
    "clf = LogisticRegression()\n",
    "clf.fit( x_train , y_train , iterations = 20000 , learning_rate = 0.1)"
   ]
  },
  {
   "cell_type": "code",
   "execution_count": 256,
   "metadata": {},
   "outputs": [
    {
     "name": "stdout",
     "output_type": "stream",
     "text": [
      "For training set : \n",
      "The accuracy is :  84.0 %\n",
      "For test set : \n",
      "The accuracy is :  83.0 %\n"
     ]
    }
   ],
   "source": [
    "print(\"For training set : \")\n",
    "clf.predict( x_train , y_train)\n",
    "print(\"For test set : \")\n",
    "clf.predict( x_test , y_test)"
   ]
  },
  {
   "cell_type": "code",
   "execution_count": null,
   "metadata": {},
   "outputs": [],
   "source": []
  }
 ],
 "metadata": {
  "kernelspec": {
   "display_name": "Python 3",
   "language": "python",
   "name": "python3"
  },
  "language_info": {
   "codemirror_mode": {
    "name": "ipython",
    "version": 3
   },
   "file_extension": ".py",
   "mimetype": "text/x-python",
   "name": "python",
   "nbconvert_exporter": "python",
   "pygments_lexer": "ipython3",
   "version": "3.7.1"
  }
 },
 "nbformat": 4,
 "nbformat_minor": 2
}
